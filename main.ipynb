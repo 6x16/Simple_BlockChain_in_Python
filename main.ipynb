{
 "cells": [
  {
   "cell_type": "code",
   "execution_count": 6,
   "metadata": {},
   "outputs": [],
   "source": [
    "%load_ext autoreload\n",
    "%autoreload 2"
   ]
  },
  {
   "cell_type": "code",
   "execution_count": 133,
   "metadata": {},
   "outputs": [],
   "source": [
    "from Block import *\n",
    "from BlockChain import *\n",
    "from ProofofWork import *\n",
    "from Wallet import *\n",
    "from Transaction import *"
   ]
  },
  {
   "cell_type": "code",
   "execution_count": 2,
   "metadata": {},
   "outputs": [],
   "source": [
    "# Test block generation\n",
    "genesis_block = Block(data=\"創世區塊\", prev_hash=\"\")\n",
    "new_block = Block(data=\"Peter transfers $1 to Peter.\", prev_hash=genesis_block.hash)\n",
    "new_block2 = Block(data=\"Peter transfers $2 to Ken.\", prev_hash=new_block.hash)"
   ]
  },
  {
   "cell_type": "code",
   "execution_count": 24,
   "metadata": {},
   "outputs": [],
   "source": [
    "blockchain = BlockChain()\n",
    "blockchain.add_block(genesis_block)\n",
    "blockchain.add_block(new_block)\n",
    "blockchain.add_block(new_block2)"
   ]
  },
  {
   "cell_type": "code",
   "execution_count": 10,
   "metadata": {},
   "outputs": [
    {
     "name": "stdout",
     "output_type": "stream",
     "text": [
      "區塊鏈包含個數：3\n",
      "\n",
      "父區塊hash: \n",
      "當前區塊內容: 創世區塊\n",
      "當前區塊hash: cefb579d4ee1192fa5827053cde1cf6cfdee0ddb1b2e9403127f1f4270eff785\n",
      "\n",
      "\n",
      "父區塊hash: cefb579d4ee1192fa5827053cde1cf6cfdee0ddb1b2e9403127f1f4270eff785\n",
      "當前區塊內容: Peter transfers $1 to Peter.\n",
      "當前區塊hash: a4ce259e2a735a1e07b65e3eeeaa05c1d56c8595cd45f9a43faa5d225bfe6c73\n",
      "\n",
      "\n",
      "父區塊hash: a4ce259e2a735a1e07b65e3eeeaa05c1d56c8595cd45f9a43faa5d225bfe6c73\n",
      "當前區塊內容: Peter transfers $2 to Ken.\n",
      "當前區塊hash: 20b13c1755bbf3d4132928e181a565f04f15998bd323ed0902b936f60496ee41\n",
      "\n",
      "\n"
     ]
    }
   ],
   "source": [
    "# 基本型, 冇nonce\n",
    "print(\"區塊鏈包含個數：%d\\n\" % len(blockchain.blocks))\n",
    "for block in blockchain.blocks:\n",
    "    print(\"父區塊hash: %s\" % block.prev_hash)\n",
    "    print(\"當前區塊內容: %s\" % block.data)\n",
    "    print(\"當前區塊hash: %s\" % block.hash)\n",
    "    print(\"\\n\")"
   ]
  },
  {
   "cell_type": "code",
   "execution_count": 9,
   "metadata": {},
   "outputs": [],
   "source": [
    "# define a block\n",
    "b = Block(data=\"測試\", prev_hash=\"\")\n",
    "\n",
    "# then define PoW\n",
    "w = ProofOfWork(b)"
   ]
  },
  {
   "cell_type": "code",
   "execution_count": 13,
   "metadata": {},
   "outputs": [
    {
     "name": "stdout",
     "output_type": "stream",
     "text": [
      "Wall time: 3.44 s\n"
     ]
    }
   ],
   "source": [
    "%%time\n",
    "valid_block = w.mine()"
   ]
  },
  {
   "cell_type": "code",
   "execution_count": 14,
   "metadata": {},
   "outputs": [
    {
     "name": "stdout",
     "output_type": "stream",
     "text": [
      "Wall time: 0 ns\n"
     ]
    },
    {
     "data": {
      "text/plain": [
       "True"
      ]
     },
     "execution_count": 14,
     "metadata": {},
     "output_type": "execute_result"
    }
   ],
   "source": [
    "%time w.validate()"
   ]
  },
  {
   "cell_type": "markdown",
   "metadata": {},
   "source": [
    "As we can see, mining costs much longer time than validating a nonce value."
   ]
  },
  {
   "cell_type": "code",
   "execution_count": 18,
   "metadata": {},
   "outputs": [
    {
     "name": "stdout",
     "output_type": "stream",
     "text": [
      "Wall time: 12 s\n"
     ]
    }
   ],
   "source": [
    "%%time\n",
    "# Build a new blockchain.\n",
    "blockchain = BlockChain()\n",
    "\n",
    "new_block1 = Block(data=\"創世區塊\", prev_hash=\"\")\n",
    "w1 = ProofOfWork(new_block1)\n",
    "genesis_block = w1.mine()\n",
    "blockchain.add_block(genesis_block)\n",
    "\n",
    "new_block2 = Block(data=\"Peter transfers $1 to Peter.\", prev_hash=genesis_block.hash)\n",
    "w2 = ProofOfWork(new_block2)\n",
    "new_block = w2.mine()\n",
    "blockchain.add_block(new_block)\n",
    "\n",
    "new_block3 = Block(data=\"Peter transfers $2 to Ken.\", prev_hash=new_block.hash)\n",
    "w3 = ProofOfWork(new_block3)\n",
    "new_block = w3.mine()\n",
    "blockchain.add_block(new_block)"
   ]
  },
  {
   "cell_type": "code",
   "execution_count": 19,
   "metadata": {},
   "outputs": [
    {
     "name": "stdout",
     "output_type": "stream",
     "text": [
      "區塊鏈包含個數：3\n",
      "\n",
      "父區塊hash: \n",
      "當前區塊內容: 創世區塊\n",
      "當前區塊hash: 0000098124391ac00fc5d6f1b13fb1f5dda6aaca1cbc1318693aad535d750d96\n",
      "\n",
      "\n",
      "父區塊hash: 0000098124391ac00fc5d6f1b13fb1f5dda6aaca1cbc1318693aad535d750d96\n",
      "當前區塊內容: Peter transfers $1 to Peter.\n",
      "當前區塊hash: 000008d94b956fc0fc2bb0fff23377b2ee184091e35285ec1027bb29dedcb84f\n",
      "\n",
      "\n",
      "父區塊hash: 000008d94b956fc0fc2bb0fff23377b2ee184091e35285ec1027bb29dedcb84f\n",
      "當前區塊內容: Peter transfers $2 to Ken.\n",
      "當前區塊hash: 000000af5cebff41356a4feef1ba89b08470fa82919aed18a7ce415cb29fee45\n",
      "\n",
      "\n"
     ]
    }
   ],
   "source": [
    "# 一般型, 有nonce\n",
    "print(\"區塊鏈包含個數：%d\\n\" % len(blockchain.blocks))\n",
    "for block in blockchain.blocks:\n",
    "    print(\"父區塊hash: %s\" % block.prev_hash)\n",
    "    print(\"當前區塊內容: %s\" % block.data)\n",
    "    print(\"當前區塊hash: %s\" % block.hash)\n",
    "    print(\"\\n\")"
   ]
  },
  {
   "cell_type": "code",
   "execution_count": 26,
   "metadata": {},
   "outputs": [],
   "source": [
    "# Create a new Wallet\n",
    "w = Wallet()"
   ]
  },
  {
   "cell_type": "code",
   "execution_count": 27,
   "metadata": {},
   "outputs": [
    {
     "data": {
      "text/plain": [
       "b'v8ZF927gZ9i9LLWXWOTJk+7y90sg8DW+vJqoSjMXF2Q='"
      ]
     },
     "execution_count": 27,
     "metadata": {},
     "output_type": "execute_result"
    }
   ],
   "source": [
    "# Print wallet address\n",
    "w.address"
   ]
  },
  {
   "cell_type": "code",
   "execution_count": 29,
   "metadata": {},
   "outputs": [
    {
     "data": {
      "text/plain": [
       "b'-----BEGIN PUBLIC KEY-----\\nMFYwEAYHKoZIzj0CAQYFK4EEAAoDQgAEWXB45i8+g9Gc2G2diuceJru3HKPl1EwO\\n/wTE0gsH8HxAdUMNp8t4exXKaJdS9V9TMEyKNQHQpel/TCiqOj/qxQ==\\n-----END PUBLIC KEY-----\\n'"
      ]
     },
     "execution_count": 29,
     "metadata": {},
     "output_type": "execute_result"
    }
   ],
   "source": [
    "# Print wallet public key\n",
    "w.pubkey"
   ]
  },
  {
   "cell_type": "code",
   "execution_count": 30,
   "metadata": {},
   "outputs": [
    {
     "name": "stdout",
     "output_type": "stream",
     "text": [
      "b'1b3a29b8f574d0c88675a4841b97ef35576a3d5bae79dbef9ffae351fd25aac14bf8211cf0ff3510aecba06bcf9c7940c6abe1951219bce95642e71851c9e564'\n"
     ]
    }
   ],
   "source": [
    "# Test data\n",
    "data = \"Trading record\"\n",
    "\n",
    "# Generate a signature\n",
    "sig = w.sign(data)\n",
    "\n",
    "# Print the signature\n",
    "print(sig)"
   ]
  },
  {
   "cell_type": "code",
   "execution_count": 32,
   "metadata": {},
   "outputs": [
    {
     "data": {
      "text/plain": [
       "True"
      ]
     },
     "execution_count": 32,
     "metadata": {},
     "output_type": "execute_result"
    }
   ],
   "source": [
    "# Verify the signature\n",
    "verify_sign(w.pubkey, data, sig)"
   ]
  },
  {
   "cell_type": "code",
   "execution_count": 134,
   "metadata": {},
   "outputs": [
    {
     "name": "stdout",
     "output_type": "stream",
     "text": [
      "Alice: 0個加密貨幣。\n",
      "Tom: 0個加密貨幣。\n",
      "Bob: 0個加密貨幣。\n"
     ]
    }
   ],
   "source": [
    "# Test new blockchain\n",
    "blockchain = BlockChain()\n",
    "\n",
    "# Create three wallets: Alice, Tom and Bob\n",
    "alice = Wallet()\n",
    "tom = Wallet()\n",
    "bob = Wallet()\n",
    "\n",
    "# Print out their balances\n",
    "print(\"Alice: %d個加密貨幣。\" % get_balance(blockchain, alice))\n",
    "print(\"Tom: %d個加密貨幣。\" % get_balance(blockchain, tom))\n",
    "print(\"Bob: %d個加密貨幣。\" % get_balance(blockchain, bob))"
   ]
  },
  {
   "cell_type": "code",
   "execution_count": 135,
   "metadata": {},
   "outputs": [
    {
     "name": "stdout",
     "output_type": "stream",
     "text": [
      "Wall time: 5.86 s\n"
     ]
    }
   ],
   "source": [
    "%%time\n",
    "# Alice creates gneesis block and adds it into the blockchain.\n",
    "new_block1 = Block(transactions=[], prev_hash=\"\")\n",
    "w1 = ProofOfWork(new_block1, alice)\n",
    "genesis_block = w1.mine()\n",
    "blockchain.add_block(genesis_block)"
   ]
  },
  {
   "cell_type": "code",
   "execution_count": 136,
   "metadata": {},
   "outputs": [
    {
     "name": "stdout",
     "output_type": "stream",
     "text": [
      "\n",
      "Alice: 1個加密貨幣。\n"
     ]
    }
   ],
   "source": [
    "# Print out Alice's current balance\n",
    "print(\"Alice: %.2f個加密貨幣。\" % get_balance(blockchain, alice))"
   ]
  },
  {
   "cell_type": "code",
   "execution_count": 137,
   "metadata": {},
   "outputs": [],
   "source": [
    "# Make a transaction: Alice transfers 0.3 coin to Tom.\n",
    "transactions = []\n",
    "    # remember, sender/recipient only recieve bytes format, so we need \"address\" of the Wallets.\n",
    "new_transaction = Transaction(sender = alice.address, \n",
    "                              recipient = tom.address, \n",
    "                              amount = 0.3)\n",
    "sig = tom.sign(str(new_transaction)) # Tom signs a public key with his private key for this transaction message.\n",
    "new_transaction.set_sign(sig, tom.pubkey) # This new Transaction object is signed with Tom's signature (public key)."
   ]
  },
  {
   "cell_type": "code",
   "execution_count": 138,
   "metadata": {},
   "outputs": [
    {
     "data": {
      "text/plain": [
       "'從 Hoel2DX+RrTTE1uaux4coIRPt52VTv5y0b5MKhiSqbc= 轉至 zgRjhSexESZMAI2sS67kj3eKSL9Iv+heCwss6vJc/HE= 0.300000個加密貨幣。'"
      ]
     },
     "execution_count": 138,
     "metadata": {},
     "output_type": "execute_result"
    }
   ],
   "source": [
    "str(new_transaction)"
   ]
  },
  {
   "cell_type": "code",
   "execution_count": 139,
   "metadata": {},
   "outputs": [
    {
     "name": "stdout",
     "output_type": "stream",
     "text": [
      "交易驗證成功\n",
      "正在生成新的區塊…\n",
      "成功生成新區塊，把新區塊加到區塊鏈中…\n",
      "完成區塊新增程序\n",
      "Wall time: 6.29 s\n"
     ]
    }
   ],
   "source": [
    "%%time\n",
    "# Assume Bob recieves this transaction message from the network, then he creates a new block and add it to the blcokchain.\n",
    "    # Firstly, Bob needs to verify that the signature is come from the given public key and the transaction message.\n",
    "if verify_sign(new_transaction.pubkey,\n",
    "               str(new_transaction), \n",
    "               new_transaction.signature):\n",
    "    \n",
    "    # Verification passed. Create a new Block.\n",
    "    print(\"交易驗證成功\")\n",
    "    new_block2 = Block(transactions=[new_transaction], prev_hash=\"\")\n",
    "    print(\"正在生成新的區塊…\")\n",
    "    w2 = ProofOfWork(new_block2, bob)\n",
    "    block = w2.mine()\n",
    "    print(\"成功生成新區塊，把新區塊加到區塊鏈中…\")\n",
    "    blockchain.add_block(block)\n",
    "    print(\"完成區塊新增程序\")\n",
    "else:\n",
    "    print(\"交易驗證失敗\")"
   ]
  },
  {
   "cell_type": "code",
   "execution_count": 145,
   "metadata": {},
   "outputs": [
    {
     "name": "stdout",
     "output_type": "stream",
     "text": [
      "Alice: 0.70個加密貨幣。\n",
      "Tom: 0.30個加密貨幣。\n",
      "Bob: 1.00個加密貨幣。\n"
     ]
    }
   ],
   "source": [
    "# Print out their balances\n",
    "print(\"Alice: %.2f個加密貨幣。\" % get_balance(blockchain, alice))\n",
    "print(\"Tom: %.2f個加密貨幣。\" % get_balance(blockchain, tom))\n",
    "print(\"Bob: %.2f個加密貨幣。\" % get_balance(blockchain, bob))"
   ]
  },
  {
   "cell_type": "code",
   "execution_count": 141,
   "metadata": {},
   "outputs": [
    {
     "name": "stdout",
     "output_type": "stream",
     "text": [
      "[Hoel2DX+RrTTE1uaux4coIRPt52VTv5y0b5MKhiSqbc= 挖礦取得 1.000000個加密貨幣。]\n",
      "[從 Hoel2DX+RrTTE1uaux4coIRPt52VTv5y0b5MKhiSqbc= 轉至 zgRjhSexESZMAI2sS67kj3eKSL9Iv+heCwss6vJc/HE= 0.300000個加密貨幣。, Bm7mmqDJ0MjEswnkyESqugaRcpJxuDCYZVnjC3tRJSE= 挖礦取得 1.000000個加密貨幣。]\n"
     ]
    }
   ],
   "source": [
    "# Print out the messages of Blocks and see if they match with the results of balances\n",
    "for b in blockchain.blocks:\n",
    "    print(str(b.transactions))"
   ]
  },
  {
   "cell_type": "code",
   "execution_count": null,
   "metadata": {},
   "outputs": [],
   "source": []
  }
 ],
 "metadata": {
  "kernelspec": {
   "display_name": "Python 3.9.7 ('ML_python')",
   "language": "python",
   "name": "python3"
  },
  "language_info": {
   "codemirror_mode": {
    "name": "ipython",
    "version": 3
   },
   "file_extension": ".py",
   "mimetype": "text/x-python",
   "name": "python",
   "nbconvert_exporter": "python",
   "pygments_lexer": "ipython3",
   "version": "3.9.7"
  },
  "orig_nbformat": 4,
  "vscode": {
   "interpreter": {
    "hash": "d729385d1b8a4aa2155cbcbb2b07535c33dc173b0e07f00b0b8664d5d5ed614f"
   }
  }
 },
 "nbformat": 4,
 "nbformat_minor": 2
}
